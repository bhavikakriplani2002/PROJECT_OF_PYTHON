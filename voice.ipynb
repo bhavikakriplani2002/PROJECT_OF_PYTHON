{
 "cells": [
  {
   "cell_type": "code",
   "execution_count": 2,
   "metadata": {},
   "outputs": [
    {
     "name": "stdout",
     "output_type": "stream",
     "text": [
      "Requirement already satisfied: pyttsx3 in c:\\users\\admin\\appdata\\local\\packages\\pythonsoftwarefoundation.python.3.11_qbz5n2kfra8p0\\localcache\\local-packages\\python311\\site-packages (2.90)Note: you may need to restart the kernel to use updated packages.\n",
      "\n",
      "Requirement already satisfied: comtypes in c:\\users\\admin\\appdata\\local\\packages\\pythonsoftwarefoundation.python.3.11_qbz5n2kfra8p0\\localcache\\local-packages\\python311\\site-packages (from pyttsx3) (1.2.0)\n",
      "Requirement already satisfied: pypiwin32 in c:\\users\\admin\\appdata\\local\\packages\\pythonsoftwarefoundation.python.3.11_qbz5n2kfra8p0\\localcache\\local-packages\\python311\\site-packages (from pyttsx3) (223)\n",
      "Requirement already satisfied: pywin32 in c:\\users\\admin\\appdata\\local\\packages\\pythonsoftwarefoundation.python.3.11_qbz5n2kfra8p0\\localcache\\local-packages\\python311\\site-packages (from pyttsx3) (306)\n"
     ]
    },
    {
     "name": "stderr",
     "output_type": "stream",
     "text": [
      "\n",
      "[notice] A new release of pip is available: 23.2.1 -> 23.3.1\n",
      "[notice] To update, run: C:\\Users\\Admin\\AppData\\Local\\Microsoft\\WindowsApps\\PythonSoftwareFoundation.Python.3.11_qbz5n2kfra8p0\\python.exe -m pip install --upgrade pip\n"
     ]
    }
   ],
   "source": [
    "%pip install pyttsx3"
   ]
  },
  {
   "cell_type": "code",
   "execution_count": 3,
   "metadata": {},
   "outputs": [],
   "source": [
    "import pyttsx3\n",
    "import speech_recognition as sr\n",
    "import wikipedia\n",
    "import os\n",
    "import pyaudio as py\n",
    "import time\n",
    "import webbrowser\n",
    "import cv2"
   ]
  },
  {
   "cell_type": "code",
   "execution_count": 4,
   "metadata": {},
   "outputs": [],
   "source": [
    "def text_to_speech(text, rate=150, volume=1.0):\n",
    "    \"\"\"\n",
    "    Convert text into voice and play it.\n",
    "\n",
    "    Args:\n",
    "        text (str): The text to convert into speech.\n",
    "        rate (int, optional): The speech rate in words per minute (default is 150).\n",
    "        volume (float, optional): The volume of the speech (0.0 to 1.0, default is 1.0).\n",
    "    \"\"\"\n",
    "    # Initialize the text-to-speech engine\n",
    "    engine = pyttsx3.init()\n",
    "\n",
    "    # Set properties\n",
    "    engine.setProperty(\"rate\", rate)    # Speed of speech (words per minute)\n",
    "    engine.setProperty(\"volume\", volume)  # Volume (0.0 to 1.0)\n",
    "\n",
    "    # Convert and play the text as speech\n",
    "    engine.say(text)\n",
    "\n",
    "    # Wait for the speech to finish\n",
    "    engine.runAndWait()\n"
   ]
  },
  {
   "cell_type": "code",
   "execution_count": 5,
   "metadata": {},
   "outputs": [],
   "source": [
    "def takecommand():\n",
    "    print(\"Recognizing...\")\n",
    "    r=sr.Recognizer()\n",
    "    with sr.Microphone() as source:\n",
    "        #r.pause_threshold =0.6\n",
    "        audio=r.listen(source)\n",
    "        try:\n",
    "            query = r.recognize_google(audio, language=\"en-in\")\n",
    "            print(f\"User said:{query}\")  \n",
    "            return query\n",
    "        except Exception as e:\n",
    "            return \"Some Error Occured. Sorry from Alexander\""
   ]
  },
  {
   "cell_type": "code",
   "execution_count": 6,
   "metadata": {},
   "outputs": [
    {
     "name": "stdout",
     "output_type": "stream",
     "text": [
      "Bhavika\n",
      "Listening....\n",
      "Recognizing...\n",
      "User said:Alexander open YouTube\n",
      "Listening....\n",
      "Recognizing...\n",
      "Listening....\n",
      "Recognizing...\n",
      "Listening....\n",
      "Recognizing...\n",
      "User said:next\n",
      "Listening....\n",
      "Recognizing...\n",
      "Listening....\n",
      "Recognizing...\n"
     ]
    }
   ],
   "source": [
    "print(\"Bhavika\")\n",
    "\n",
    "text_to_speech(\"Hello,I am ALEXANDER AI\")\n",
    "while True:\n",
    "    print(\"Listening....\")\n",
    "    query =  takecommand()\n",
    "    #text_to_speech(query)\n",
    "    sites=[[\"youtube\",\"https://www.youtube.com\"],[\"wikipedia\",\"https://www.wikipedia.com\"],[\"google\",\"https://www.google.com\"]]\n",
    "    for site in sites:\n",
    "        if f\"Open {site[0]}\".lower() in query.lower():\n",
    "          text_to_speech(f\"Opening {site[0]} ma'am\")\n",
    "          webbrowser.open(site[1])\n",
    "\n",
    "    if \"open music\".lower() in query.lower():\n",
    "       text_to_speech(f\"You have good taste in music ma'am, playing your music\")\n",
    "       file_path = r'\"E:\\songs\\new songs\\Chaleya(PagalWorld.com.se).mp3\"'\n",
    "\n",
    "       os.startfile(file_path)\n",
    "          "
   ]
  }
 ],
 "metadata": {
  "kernelspec": {
   "display_name": "Python 3",
   "language": "python",
   "name": "python3"
  },
  "language_info": {
   "codemirror_mode": {
    "name": "ipython",
    "version": 3
   },
   "file_extension": ".py",
   "mimetype": "text/x-python",
   "name": "python",
   "nbconvert_exporter": "python",
   "pygments_lexer": "ipython3",
   "version": "3.11.8"
  },
  "orig_nbformat": 4
 },
 "nbformat": 4,
 "nbformat_minor": 2
}
